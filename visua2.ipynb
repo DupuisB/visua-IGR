{
 "cells": [
  {
   "cell_type": "code",
<<<<<<< HEAD
   "execution_count": 61,
=======
   "execution_count": 1,
>>>>>>> 54deafe4816ca1138f433c532324ec8720ce0291
   "id": "f30aa5a7",
   "metadata": {},
   "outputs": [
    {
     "data": {
      "text/plain": [
       "DataTransformerRegistry.enable('json')"
      ]
     },
<<<<<<< HEAD
     "execution_count": 61,
=======
     "execution_count": 1,
>>>>>>> 54deafe4816ca1138f433c532324ec8720ce0291
     "metadata": {},
     "output_type": "execute_result"
    }
   ],
   "source": [
    "# French Baby Names Map Visualization\n",
    "import altair as alt\n",
    "import pandas as pd\n",
    "import geopandas as gpd\n",
    "\n",
    "alt.data_transformers.enable('json')"
   ]
  },
  {
   "cell_type": "code",
<<<<<<< HEAD
   "execution_count": null,
   "id": "f8bbc9fe",
   "metadata": {},
   "outputs": [],
   "source": [
    "# TODO\n",
    "# - Better score calculation (and more meaningful, like  name/1000 births)\n",
    "# - Maybe a second chart where you can select a range of years, one year is not always enough and pertinent\n",
    "# - Cleaner code\n",
    "# - Keep the original scores"
   ]
  },
  {
   "cell_type": "code",
   "execution_count": 62,
=======
   "execution_count": 2,
>>>>>>> 54deafe4816ca1138f433c532324ec8720ce0291
   "id": "f3ee1d15",
   "metadata": {},
   "outputs": [
    {
     "data": {
      "text/html": [
       "<div>\n",
       "<style scoped>\n",
       "    .dataframe tbody tr th:only-of-type {\n",
       "        vertical-align: middle;\n",
       "    }\n",
       "\n",
       "    .dataframe tbody tr th {\n",
       "        vertical-align: top;\n",
       "    }\n",
       "\n",
       "    .dataframe thead th {\n",
       "        text-align: right;\n",
       "    }\n",
       "</style>\n",
       "<table border=\"1\" class=\"dataframe\">\n",
       "  <thead>\n",
       "    <tr style=\"text-align: right;\">\n",
       "      <th></th>\n",
       "      <th>sexe</th>\n",
       "      <th>preusuel</th>\n",
       "      <th>annais</th>\n",
       "      <th>dpt</th>\n",
       "      <th>nombre</th>\n",
       "    </tr>\n",
       "  </thead>\n",
       "  <tbody>\n",
       "    <tr>\n",
<<<<<<< HEAD
       "      <th>705731</th>\n",
       "      <td>1</td>\n",
       "      <td>HICHEM</td>\n",
       "      <td>2013</td>\n",
       "      <td>13</td>\n",
       "      <td>4</td>\n",
       "    </tr>\n",
       "    <tr>\n",
       "      <th>1694195</th>\n",
       "      <td>1</td>\n",
       "      <td>YLIANO</td>\n",
       "      <td>2016</td>\n",
       "      <td>59</td>\n",
       "      <td>6</td>\n",
       "    </tr>\n",
       "    <tr>\n",
       "      <th>2913483</th>\n",
       "      <td>2</td>\n",
       "      <td>LOUNA</td>\n",
       "      <td>2007</td>\n",
       "      <td>57</td>\n",
       "      <td>19</td>\n",
       "    </tr>\n",
       "    <tr>\n",
       "      <th>1033215</th>\n",
       "      <td>1</td>\n",
       "      <td>LOUIS</td>\n",
       "      <td>2013</td>\n",
       "      <td>43</td>\n",
       "      <td>12</td>\n",
       "    </tr>\n",
       "    <tr>\n",
       "      <th>2581173</th>\n",
       "      <td>2</td>\n",
       "      <td>HENRIETTE</td>\n",
       "      <td>1909</td>\n",
       "      <td>10</td>\n",
       "      <td>32</td>\n",
=======
       "      <th>2328100</th>\n",
       "      <td>2</td>\n",
       "      <td>ELISABETH</td>\n",
       "      <td>2005</td>\n",
       "      <td>94</td>\n",
       "      <td>4</td>\n",
       "    </tr>\n",
       "    <tr>\n",
       "      <th>3203324</th>\n",
       "      <td>2</td>\n",
       "      <td>MELINA</td>\n",
       "      <td>2014</td>\n",
       "      <td>07</td>\n",
       "      <td>3</td>\n",
       "    </tr>\n",
       "    <tr>\n",
       "      <th>2616559</th>\n",
       "      <td>2</td>\n",
       "      <td>IRÈNE</td>\n",
       "      <td>1938</td>\n",
       "      <td>40</td>\n",
       "      <td>3</td>\n",
       "    </tr>\n",
       "    <tr>\n",
       "      <th>974119</th>\n",
       "      <td>1</td>\n",
       "      <td>LÉANDRE</td>\n",
       "      <td>2009</td>\n",
       "      <td>24</td>\n",
       "      <td>4</td>\n",
       "    </tr>\n",
       "    <tr>\n",
       "      <th>2743446</th>\n",
       "      <td>2</td>\n",
       "      <td>KAREN</td>\n",
       "      <td>1983</td>\n",
       "      <td>77</td>\n",
       "      <td>4</td>\n",
>>>>>>> 54deafe4816ca1138f433c532324ec8720ce0291
       "    </tr>\n",
       "  </tbody>\n",
       "</table>\n",
       "</div>"
      ],
      "text/plain": [
       "         sexe   preusuel annais dpt  nombre\n",
<<<<<<< HEAD
       "705731      1     HICHEM   2013  13       4\n",
       "1694195     1     YLIANO   2016  59       6\n",
       "2913483     2      LOUNA   2007  57      19\n",
       "1033215     1      LOUIS   2013  43      12\n",
       "2581173     2  HENRIETTE   1909  10      32"
      ]
     },
     "execution_count": 62,
=======
       "2328100     2  ELISABETH   2005  94       4\n",
       "3203324     2     MELINA   2014  07       3\n",
       "2616559     2      IRÈNE   1938  40       3\n",
       "974119      1    LÉANDRE   2009  24       4\n",
       "2743446     2      KAREN   1983  77       4"
      ]
     },
     "execution_count": 2,
>>>>>>> 54deafe4816ca1138f433c532324ec8720ce0291
     "metadata": {},
     "output_type": "execute_result"
    }
   ],
   "source": [
    "# loading data\n",
    "names = pd.read_csv('dpt2020.csv', sep=';')\n",
    "names.drop(names[names.preusuel == '_PRENOMS_RARES'].index, inplace=True)\n",
    "names.drop(names[names.dpt == 'XX'].index, inplace=True)\n",
    "names.sample(5)"
   ]
  },
  {
   "cell_type": "code",
<<<<<<< HEAD
   "execution_count": 63,
   "id": "8ea35535",
   "metadata": {},
   "outputs": [],
   "source": [
    "# Grab min year, max year from annais column for later\n",
    "min_year = names.annais.min()\n",
    "max_year = names.annais.max()\n",
    "min_year = int(min_year)\n",
    "max_year = int(max_year)\n",
    "\n",
    "# Grab all departments\n",
    "departments = names.dpt.unique()"
   ]
  },
  {
   "cell_type": "code",
   "execution_count": 64,
=======
   "execution_count": 3,
>>>>>>> 54deafe4816ca1138f433c532324ec8720ce0291
   "id": "7563bd5d",
   "metadata": {},
   "outputs": [
    {
     "data": {
      "text/html": [
       "<div>\n",
       "<style scoped>\n",
       "    .dataframe tbody tr th:only-of-type {\n",
       "        vertical-align: middle;\n",
       "    }\n",
       "\n",
       "    .dataframe tbody tr th {\n",
       "        vertical-align: top;\n",
       "    }\n",
       "\n",
       "    .dataframe thead th {\n",
       "        text-align: right;\n",
       "    }\n",
       "</style>\n",
       "<table border=\"1\" class=\"dataframe\">\n",
       "  <thead>\n",
       "    <tr style=\"text-align: right;\">\n",
       "      <th></th>\n",
       "      <th>code</th>\n",
       "      <th>nom</th>\n",
       "      <th>geometry</th>\n",
       "    </tr>\n",
       "  </thead>\n",
       "  <tbody>\n",
       "    <tr>\n",
<<<<<<< HEAD
       "      <th>90</th>\n",
       "      <td>90</td>\n",
       "      <td>Territoire de Belfort</td>\n",
       "      <td>POLYGON ((6.82354 47.81305, 6.84618 47.82295, ...</td>\n",
       "    </tr>\n",
       "    <tr>\n",
       "      <th>94</th>\n",
       "      <td>94</td>\n",
       "      <td>Val-de-Marne</td>\n",
       "      <td>POLYGON ((2.3319 48.81701, 2.36395 48.81632, 2...</td>\n",
       "    </tr>\n",
       "    <tr>\n",
       "      <th>73</th>\n",
       "      <td>73</td>\n",
       "      <td>Savoie</td>\n",
       "      <td>POLYGON ((6.80252 45.77837, 6.80842 45.72515, ...</td>\n",
       "    </tr>\n",
       "    <tr>\n",
       "      <th>2</th>\n",
       "      <td>03</td>\n",
       "      <td>Allier</td>\n",
       "      <td>POLYGON ((3.03207 46.79491, 3.04907 46.75808, ...</td>\n",
       "    </tr>\n",
       "    <tr>\n",
       "      <th>8</th>\n",
       "      <td>09</td>\n",
       "      <td>Ariège</td>\n",
       "      <td>POLYGON ((1.68842 43.27355, 1.70075 43.26054, ...</td>\n",
=======
       "      <th>21</th>\n",
       "      <td>23</td>\n",
       "      <td>Creuse</td>\n",
       "      <td>POLYGON ((2.16779 46.42407, 2.19757 46.4283, 2...</td>\n",
       "    </tr>\n",
       "    <tr>\n",
       "      <th>30</th>\n",
       "      <td>30</td>\n",
       "      <td>Gard</td>\n",
       "      <td>POLYGON ((3.37365 44.17076, 3.43083 44.148, 3....</td>\n",
       "    </tr>\n",
       "    <tr>\n",
       "      <th>11</th>\n",
       "      <td>12</td>\n",
       "      <td>Aveyron</td>\n",
       "      <td>POLYGON ((2.20748 44.61553, 2.20841 44.64384, ...</td>\n",
       "    </tr>\n",
       "    <tr>\n",
       "      <th>87</th>\n",
       "      <td>87</td>\n",
       "      <td>Haute-Vienne</td>\n",
       "      <td>POLYGON ((0.82343 46.12858, 0.83345 46.16655, ...</td>\n",
       "    </tr>\n",
       "    <tr>\n",
       "      <th>43</th>\n",
       "      <td>43</td>\n",
       "      <td>Haute-Loire</td>\n",
       "      <td>POLYGON ((3.89741 45.35708, 3.91694 45.3394, 3...</td>\n",
>>>>>>> 54deafe4816ca1138f433c532324ec8720ce0291
       "    </tr>\n",
       "  </tbody>\n",
       "</table>\n",
       "</div>"
      ],
      "text/plain": [
<<<<<<< HEAD
       "   code                    nom  \\\n",
       "90   90  Territoire de Belfort   \n",
       "94   94           Val-de-Marne   \n",
       "73   73                 Savoie   \n",
       "2    03                 Allier   \n",
       "8    09                 Ariège   \n",
       "\n",
       "                                             geometry  \n",
       "90  POLYGON ((6.82354 47.81305, 6.84618 47.82295, ...  \n",
       "94  POLYGON ((2.3319 48.81701, 2.36395 48.81632, 2...  \n",
       "73  POLYGON ((6.80252 45.77837, 6.80842 45.72515, ...  \n",
       "2   POLYGON ((3.03207 46.79491, 3.04907 46.75808, ...  \n",
       "8   POLYGON ((1.68842 43.27355, 1.70075 43.26054, ...  "
      ]
     },
     "execution_count": 64,
=======
       "   code           nom                                           geometry\n",
       "21   23        Creuse  POLYGON ((2.16779 46.42407, 2.19757 46.4283, 2...\n",
       "30   30          Gard  POLYGON ((3.37365 44.17076, 3.43083 44.148, 3....\n",
       "11   12       Aveyron  POLYGON ((2.20748 44.61553, 2.20841 44.64384, ...\n",
       "87   87  Haute-Vienne  POLYGON ((0.82343 46.12858, 0.83345 46.16655, ...\n",
       "43   43   Haute-Loire  POLYGON ((3.89741 45.35708, 3.91694 45.3394, 3..."
      ]
     },
     "execution_count": 3,
>>>>>>> 54deafe4816ca1138f433c532324ec8720ce0291
     "metadata": {},
     "output_type": "execute_result"
    }
   ],
   "source": [
    "#loading map data\n",
    "depts = gpd.read_file('departements-version-simplifiee.geojson')\n",
    "depts.sample(5)"
   ]
  },
  {
   "cell_type": "code",
<<<<<<< HEAD
   "execution_count": null,
=======
   "execution_count": 4,
>>>>>>> 54deafe4816ca1138f433c532324ec8720ce0291
   "id": "941fdb38",
   "metadata": {},
   "outputs": [
    {
     "data": {
      "text/html": [
       "<div>\n",
       "<style scoped>\n",
       "    .dataframe tbody tr th:only-of-type {\n",
       "        vertical-align: middle;\n",
       "    }\n",
       "\n",
       "    .dataframe tbody tr th {\n",
       "        vertical-align: top;\n",
       "    }\n",
       "\n",
       "    .dataframe thead th {\n",
       "        text-align: right;\n",
       "    }\n",
       "</style>\n",
       "<table border=\"1\" class=\"dataframe\">\n",
       "  <thead>\n",
       "    <tr style=\"text-align: right;\">\n",
       "      <th></th>\n",
       "      <th>code</th>\n",
       "      <th>nom</th>\n",
       "      <th>geometry</th>\n",
       "      <th>sexe</th>\n",
       "      <th>preusuel</th>\n",
       "      <th>annais</th>\n",
       "      <th>dpt</th>\n",
       "      <th>nombre</th>\n",
       "    </tr>\n",
       "  </thead>\n",
       "  <tbody>\n",
       "    <tr>\n",
<<<<<<< HEAD
       "      <th>305328</th>\n",
       "      <td>71</td>\n",
       "      <td>Saône-et-Loire</td>\n",
       "      <td>POLYGON ((4.11597 47.12334, 4.15377 47.11456, ...</td>\n",
       "      <td>1</td>\n",
       "      <td>CLAUDIUS</td>\n",
       "      <td>1913</td>\n",
       "      <td>71</td>\n",
       "      <td>50</td>\n",
       "    </tr>\n",
       "    <tr>\n",
       "      <th>2252393</th>\n",
       "      <td>14</td>\n",
       "      <td>Calvados</td>\n",
       "      <td>POLYGON ((-1.11962 49.35557, -1.07822 49.38849...</td>\n",
       "      <td>2</td>\n",
       "      <td>EGLANTINE</td>\n",
       "      <td>1989</td>\n",
       "      <td>14</td>\n",
       "      <td>3</td>\n",
       "    </tr>\n",
       "    <tr>\n",
       "      <th>2673058</th>\n",
       "      <td>16</td>\n",
       "      <td>Charente</td>\n",
       "      <td>POLYGON ((-0.10294 45.96966, -0.04143 45.99348...</td>\n",
       "      <td>2</td>\n",
       "      <td>JULIE</td>\n",
       "      <td>1983</td>\n",
       "      <td>16</td>\n",
       "      <td>32</td>\n",
       "    </tr>\n",
       "    <tr>\n",
       "      <th>161667</th>\n",
       "      <td>17</td>\n",
       "      <td>Charente-Maritime</td>\n",
       "      <td>MULTIPOLYGON (((-1.4809 46.21003, -1.4528 46.2...</td>\n",
       "      <td>1</td>\n",
       "      <td>ARTHUR</td>\n",
       "      <td>1987</td>\n",
       "      <td>17</td>\n",
       "      <td>6</td>\n",
       "    </tr>\n",
       "    <tr>\n",
       "      <th>65539</th>\n",
       "      <td>26</td>\n",
       "      <td>Drôme</td>\n",
       "      <td>POLYGON ((4.80049 45.29836, 4.8588 45.30895, 4...</td>\n",
       "      <td>1</td>\n",
       "      <td>ALEXANDRE</td>\n",
       "      <td>1982</td>\n",
       "      <td>26</td>\n",
       "      <td>55</td>\n",
=======
       "      <th>3548575</th>\n",
       "      <td>59</td>\n",
       "      <td>Nord</td>\n",
       "      <td>MULTIPOLYGON (((3.0404 50.15971, 3.06301 50.17...</td>\n",
       "      <td>2</td>\n",
       "      <td>SUZANNE</td>\n",
       "      <td>2000</td>\n",
       "      <td>59</td>\n",
       "      <td>12</td>\n",
       "    </tr>\n",
       "    <tr>\n",
       "      <th>1601610</th>\n",
       "      <td>59</td>\n",
       "      <td>Nord</td>\n",
       "      <td>MULTIPOLYGON (((3.0404 50.15971, 3.06301 50.17...</td>\n",
       "      <td>1</td>\n",
       "      <td>VALERY</td>\n",
       "      <td>1980</td>\n",
       "      <td>59</td>\n",
       "      <td>8</td>\n",
       "    </tr>\n",
       "    <tr>\n",
       "      <th>63095</th>\n",
       "      <td>17</td>\n",
       "      <td>Charente-Maritime</td>\n",
       "      <td>MULTIPOLYGON (((-1.4809 46.21003, -1.4528 46.2...</td>\n",
       "      <td>1</td>\n",
       "      <td>ALEXANDRE</td>\n",
       "      <td>1935</td>\n",
       "      <td>17</td>\n",
       "      <td>3</td>\n",
       "    </tr>\n",
       "    <tr>\n",
       "      <th>3233227</th>\n",
       "      <td>93</td>\n",
       "      <td>Seine-Saint-Denis</td>\n",
       "      <td>POLYGON ((2.55306 49.00982, 2.58031 48.99159, ...</td>\n",
       "      <td>2</td>\n",
       "      <td>NAELA</td>\n",
       "      <td>2008</td>\n",
       "      <td>93</td>\n",
       "      <td>3</td>\n",
       "    </tr>\n",
       "    <tr>\n",
       "      <th>3442182</th>\n",
       "      <td>77</td>\n",
       "      <td>Seine-et-Marne</td>\n",
       "      <td>POLYGON ((2.57166 48.69201, 2.5688 48.70722, 2...</td>\n",
       "      <td>2</td>\n",
       "      <td>SAFIYA</td>\n",
       "      <td>2013</td>\n",
       "      <td>77</td>\n",
       "      <td>7</td>\n",
>>>>>>> 54deafe4816ca1138f433c532324ec8720ce0291
       "    </tr>\n",
       "  </tbody>\n",
       "</table>\n",
       "</div>"
      ],
      "text/plain": [
       "        code                nom  \\\n",
<<<<<<< HEAD
       "305328    71     Saône-et-Loire   \n",
       "2252393   14           Calvados   \n",
       "2673058   16           Charente   \n",
       "161667    17  Charente-Maritime   \n",
       "65539     26              Drôme   \n",
       "\n",
       "                                                  geometry  sexe   preusuel  \\\n",
       "305328   POLYGON ((4.11597 47.12334, 4.15377 47.11456, ...     1   CLAUDIUS   \n",
       "2252393  POLYGON ((-1.11962 49.35557, -1.07822 49.38849...     2  EGLANTINE   \n",
       "2673058  POLYGON ((-0.10294 45.96966, -0.04143 45.99348...     2      JULIE   \n",
       "161667   MULTIPOLYGON (((-1.4809 46.21003, -1.4528 46.2...     1     ARTHUR   \n",
       "65539    POLYGON ((4.80049 45.29836, 4.8588 45.30895, 4...     1  ALEXANDRE   \n",
       "\n",
       "        annais dpt  nombre  \n",
       "305328    1913  71      50  \n",
       "2252393   1989  14       3  \n",
       "2673058   1983  16      32  \n",
       "161667    1987  17       6  \n",
       "65539     1982  26      55  "
      ]
     },
     "execution_count": 65,
=======
       "3548575   59               Nord   \n",
       "1601610   59               Nord   \n",
       "63095     17  Charente-Maritime   \n",
       "3233227   93  Seine-Saint-Denis   \n",
       "3442182   77     Seine-et-Marne   \n",
       "\n",
       "                                                  geometry  sexe   preusuel  \\\n",
       "3548575  MULTIPOLYGON (((3.0404 50.15971, 3.06301 50.17...     2    SUZANNE   \n",
       "1601610  MULTIPOLYGON (((3.0404 50.15971, 3.06301 50.17...     1     VALERY   \n",
       "63095    MULTIPOLYGON (((-1.4809 46.21003, -1.4528 46.2...     1  ALEXANDRE   \n",
       "3233227  POLYGON ((2.55306 49.00982, 2.58031 48.99159, ...     2      NAELA   \n",
       "3442182  POLYGON ((2.57166 48.69201, 2.5688 48.70722, 2...     2     SAFIYA   \n",
       "\n",
       "        annais dpt  nombre  \n",
       "3548575   2000  59      12  \n",
       "1601610   1980  59       8  \n",
       "63095     1935  17       3  \n",
       "3233227   2008  93       3  \n",
       "3442182   2013  77       7  "
      ]
     },
     "execution_count": 4,
>>>>>>> 54deafe4816ca1138f433c532324ec8720ce0291
     "metadata": {},
     "output_type": "execute_result"
    }
   ],
   "source": [
    "# keep a copy of just the names\n",
    "just_names = names\n",
    "# merge names with map data\n",
    "names = depts.merge(names, how='right', left_on='code', right_on='dpt')\n",
    "names.sample(5)"
   ]
  },
  {
   "cell_type": "code",
<<<<<<< HEAD
   "execution_count": 76,
   "id": "aff87406",
   "metadata": {},
   "outputs": [],
=======
   "execution_count": 5,
   "id": "0319e8c0",
   "metadata": {},
   "outputs": [
    {
     "name": "stderr",
     "output_type": "stream",
     "text": [
      "C:\\Users\\medch\\AppData\\Local\\Temp\\ipykernel_23172\\1906072652.py:15: DeprecationWarning: DataFrameGroupBy.apply operated on the grouping columns. This behavior is deprecated, and in a future version of pandas the grouping columns will be excluded from the operation. Either pass `include_groups=False` to exclude the groupings or explicitly select the grouping columns after groupby to silence this warning.\n",
      "  extremes = grouped.groupby('dpt').apply(get_extremes).reset_index()\n"
     ]
    }
   ],
>>>>>>> 54deafe4816ca1138f433c532324ec8720ce0291
   "source": [
    "# For each department, find the number of birth for each year\n",
    "dep_year = names.groupby(['dpt', 'annais']).agg({'nombre': 'sum'}).reset_index()       \n",
    "dep_year['annais'] = dep_year['annais'].astype(int)"
   ]
  },
  {
   "cell_type": "code",
   "execution_count": null,
<<<<<<< HEAD
   "id": "0319e8c0",
   "metadata": {},
   "outputs": [
    {
     "name": "stdout",
     "output_type": "stream",
     "text": [
      "Columns: ['dpt', 'annais', 'nombre', 'nombretotal']\n",
      "Data for name 'Marie':\n",
      "Available years: [np.int64(1900), np.int64(1901), np.int64(1902), np.int64(1903), np.int64(1904), np.int64(1905), np.int64(1906), np.int64(1907), np.int64(1908), np.int64(1909), np.int64(1910), np.int64(1911), np.int64(1912), np.int64(1913), np.int64(1914), np.int64(1915), np.int64(1916), np.int64(1917), np.int64(1918), np.int64(1919), np.int64(1920), np.int64(1921), np.int64(1922), np.int64(1923), np.int64(1924), np.int64(1925), np.int64(1926), np.int64(1927), np.int64(1928), np.int64(1929), np.int64(1930), np.int64(1931), np.int64(1932), np.int64(1933), np.int64(1934), np.int64(1935), np.int64(1936), np.int64(1937), np.int64(1938), np.int64(1939), np.int64(1940), np.int64(1941), np.int64(1942), np.int64(1943), np.int64(1944), np.int64(1945), np.int64(1946), np.int64(1947), np.int64(1948), np.int64(1949), np.int64(1950), np.int64(1951), np.int64(1952), np.int64(1953), np.int64(1954), np.int64(1955), np.int64(1956), np.int64(1957), np.int64(1958), np.int64(1959), np.int64(1960), np.int64(1961), np.int64(1962), np.int64(1963), np.int64(1964), np.int64(1965), np.int64(1966), np.int64(1967), np.int64(1968), np.int64(1969), np.int64(1970), np.int64(1971), np.int64(1972), np.int64(1973), np.int64(1974), np.int64(1975), np.int64(1976), np.int64(1977), np.int64(1978), np.int64(1979), np.int64(1980), np.int64(1981), np.int64(1982), np.int64(1983), np.int64(1984), np.int64(1985), np.int64(1986), np.int64(1987), np.int64(1988), np.int64(1989), np.int64(1990), np.int64(1991), np.int64(1992), np.int64(1993), np.int64(1994), np.int64(1995), np.int64(1996), np.int64(1997), np.int64(1998), np.int64(1999), np.int64(2000), np.int64(2001), np.int64(2002), np.int64(2003), np.int64(2004), np.int64(2005), np.int64(2006), np.int64(2007), np.int64(2008), np.int64(2009), np.int64(2010), np.int64(2011), np.int64(2012), np.int64(2013), np.int64(2014), np.int64(2015), np.int64(2016), np.int64(2017), np.int64(2018), np.int64(2019), np.int64(2020)]\n",
      "Total records: 11376\n"
     ]
    }
   ],
   "source": [
    "# Select a specific name to visualize\n",
    "selected_name = \"Marie\"\n",
    "\n",
    "# Filter data for the selected name and convert year to numeric\n",
    "name_data = just_names[just_names['preusuel'] == selected_name].copy()\n",
    "name_data['annais'] = pd.to_numeric(name_data['annais'], errors='coerce')\n",
    "name_data = name_data.dropna(subset=['annais'])\n",
    "name_data['annais'] = name_data['annais'].astype(int)\n",
    "\n",
    "# Group by department and year to get total counts\n",
    "name_by_year_dept = name_data.groupby(['dpt', 'annais'], as_index=False).agg({'nombre': 'sum'})\n",
    "\n",
    "# Dropna values in 'nombre' column\n",
    "name_by_year_dept = name_by_year_dept.dropna(subset=['nombre'])\n",
    "\n",
    "# Loop over each year, over each department, and add missing combinations to the dataframe\n",
    "for year in range(min_year, max_year + 1):\n",
    "    for dpt in departments:\n",
    "        # If no entry for this year and department, add a row with count 0\n",
    "        if not ((name_by_year_dept['dpt'] == dpt) & (name_by_year_dept['annais'] == year)).any():\n",
    "            new_row = pd.DataFrame({'dpt': [dpt], 'annais': [year], 'nombre': [0]})\n",
    "            name_by_year_dept = pd.concat([name_by_year_dept, new_row], ignore_index=True)\n",
    "name_by_year_dept['nombre'] = pd.to_numeric(name_by_year_dept['nombre'], errors='coerce').fillna(0)\n",
    "\n",
    "# Add total counts for each department across all years\n",
    "name_by_year_dept = name_by_year_dept.merge(dep_year, on=['dpt', 'annais'], how='left', suffixes=('', 'total'))\n",
    "print(f\"Columns: {name_by_year_dept.columns.tolist()}\")\n",
    "# Update the 'nombre' column to be the relative to the total\n",
    "name_by_year_dept['nombre'] = name_by_year_dept['nombre'] / name_by_year_dept['nombretotal']\n",
    "\n",
    "# Merge with department geometry\n",
    "map_data = depts.merge(name_by_year_dept, how='left', left_on='code', right_on='dpt')\n",
    "map_data['nombre'] = map_data['nombre'].fillna(0)\n",
    "\n",
    "print(f\"Data for name '{selected_name}':\")\n",
    "print(f\"Available years: {sorted(name_by_year_dept['annais'].unique())}\")\n",
    "print(f\"Total records: {len(map_data)}\")"
   ]
  },
  {
   "cell_type": "code",
   "execution_count": 87,
=======
>>>>>>> 54deafe4816ca1138f433c532324ec8720ce0291
   "id": "2394e32e",
   "metadata": {},
   "outputs": [
    {
     "data": {
      "text/html": [
       "\n",
       "<style>\n",
<<<<<<< HEAD
       "  #altair-viz-f7b7fc49c94842e8acd5cf9ebbc19cfa.vega-embed {\n",
=======
       "  #altair-viz-cb5e9812bdb449f595874554fbe57759.vega-embed {\n",
>>>>>>> 54deafe4816ca1138f433c532324ec8720ce0291
       "    width: 100%;\n",
       "    display: flex;\n",
       "  }\n",
       "\n",
<<<<<<< HEAD
       "  #altair-viz-f7b7fc49c94842e8acd5cf9ebbc19cfa.vega-embed details,\n",
       "  #altair-viz-f7b7fc49c94842e8acd5cf9ebbc19cfa.vega-embed details summary {\n",
       "    position: relative;\n",
       "  }\n",
       "</style>\n",
       "<div id=\"altair-viz-f7b7fc49c94842e8acd5cf9ebbc19cfa\"></div>\n",
=======
       "  #altair-viz-cb5e9812bdb449f595874554fbe57759.vega-embed details,\n",
       "  #altair-viz-cb5e9812bdb449f595874554fbe57759.vega-embed details summary {\n",
       "    position: relative;\n",
       "  }\n",
       "</style>\n",
       "<div id=\"altair-viz-cb5e9812bdb449f595874554fbe57759\"></div>\n",
>>>>>>> 54deafe4816ca1138f433c532324ec8720ce0291
       "<script type=\"text/javascript\">\n",
       "  var VEGA_DEBUG = (typeof VEGA_DEBUG == \"undefined\") ? {} : VEGA_DEBUG;\n",
       "  (function(spec, embedOpt){\n",
       "    let outputDiv = document.currentScript.previousElementSibling;\n",
<<<<<<< HEAD
       "    if (outputDiv.id !== \"altair-viz-f7b7fc49c94842e8acd5cf9ebbc19cfa\") {\n",
       "      outputDiv = document.getElementById(\"altair-viz-f7b7fc49c94842e8acd5cf9ebbc19cfa\");\n",
=======
       "    if (outputDiv.id !== \"altair-viz-cb5e9812bdb449f595874554fbe57759\") {\n",
       "      outputDiv = document.getElementById(\"altair-viz-cb5e9812bdb449f595874554fbe57759\");\n",
>>>>>>> 54deafe4816ca1138f433c532324ec8720ce0291
       "    }\n",
       "\n",
       "    const paths = {\n",
       "      \"vega\": \"https://cdn.jsdelivr.net/npm/vega@5?noext\",\n",
       "      \"vega-lib\": \"https://cdn.jsdelivr.net/npm/vega-lib?noext\",\n",
       "      \"vega-lite\": \"https://cdn.jsdelivr.net/npm/vega-lite@5.20.1?noext\",\n",
       "      \"vega-embed\": \"https://cdn.jsdelivr.net/npm/vega-embed@6?noext\",\n",
       "    };\n",
       "\n",
       "    function maybeLoadScript(lib, version) {\n",
       "      var key = `${lib.replace(\"-\", \"\")}_version`;\n",
       "      return (VEGA_DEBUG[key] == version) ?\n",
       "        Promise.resolve(paths[lib]) :\n",
       "        new Promise(function(resolve, reject) {\n",
       "          var s = document.createElement('script');\n",
       "          document.getElementsByTagName(\"head\")[0].appendChild(s);\n",
       "          s.async = true;\n",
       "          s.onload = () => {\n",
       "            VEGA_DEBUG[key] = version;\n",
       "            return resolve(paths[lib]);\n",
       "          };\n",
       "          s.onerror = () => reject(`Error loading script: ${paths[lib]}`);\n",
       "          s.src = paths[lib];\n",
       "        });\n",
       "    }\n",
       "\n",
       "    function showError(err) {\n",
       "      outputDiv.innerHTML = `<div class=\"error\" style=\"color:red;\">${err}</div>`;\n",
       "      throw err;\n",
       "    }\n",
       "\n",
       "    function displayChart(vegaEmbed) {\n",
       "      vegaEmbed(outputDiv, spec, embedOpt)\n",
       "        .catch(err => showError(`Javascript Error: ${err.message}<br>This usually means there's a typo in your chart specification. See the javascript console for the full traceback.`));\n",
       "    }\n",
       "\n",
       "    if(typeof define === \"function\" && define.amd) {\n",
       "      requirejs.config({paths});\n",
       "      let deps = [\"vega-embed\"];\n",
       "      require(deps, displayChart, err => showError(`Error loading script: ${err.message}`));\n",
       "    } else {\n",
       "      maybeLoadScript(\"vega\", \"5\")\n",
       "        .then(() => maybeLoadScript(\"vega-lite\", \"5.20.1\"))\n",
       "        .then(() => maybeLoadScript(\"vega-embed\", \"6\"))\n",
       "        .catch(showError)\n",
       "        .then(() => displayChart(vegaEmbed));\n",
       "    }\n",
       "  })({\"config\": {\"view\": {\"continuousWidth\": 300, \"continuousHeight\": 300}}, \"data\": {\"url\": \"altair-data-4c71fd09d9ff34be58277187c7b0d81b.json\", \"format\": {\"type\": \"json\"}}, \"mark\": {\"type\": \"geoshape\", \"stroke\": \"white\", \"strokeWidth\": 0.5}, \"encoding\": {\"color\": {\"field\": \"nombre\", \"scale\": {\"scheme\": \"blues\"}, \"title\": \"Number of babies named Marie\", \"type\": \"quantitative\"}, \"tooltip\": [{\"field\": \"nom\", \"type\": \"nominal\"}, {\"field\": \"code\", \"type\": \"nominal\"}, {\"field\": \"annais\", \"type\": \"ordinal\"}, {\"field\": \"nombre\", \"type\": \"quantitative\"}]}, \"height\": 600, \"params\": [{\"name\": \"param_20\", \"bind\": {\"input\": \"range\", \"max\": 2020, \"min\": 1900, \"name\": \"Year: \", \"step\": 1}, \"value\": 2000}], \"resolve\": {\"scale\": {\"color\": \"independent\"}}, \"title\": \"Popularity of the name \\\"Marie\\\" across French departments\", \"transform\": [{\"filter\": \"(datum.annais === param_20)\"}], \"width\": 800, \"$schema\": \"https://vega.github.io/schema/vega-lite/v5.20.1.json\"}, {\"mode\": \"vega-lite\"});\n",
       "</script>"
      ],
      "text/plain": [
       "alt.Chart(...)"
      ]
     },
<<<<<<< HEAD
     "execution_count": 87,
=======
     "execution_count": 6,
>>>>>>> 54deafe4816ca1138f433c532324ec8720ce0291
     "metadata": {},
     "output_type": "execute_result"
    }
   ],
   "source": [
<<<<<<< HEAD
    "# Create year slider\n",
    "year_slider = alt.binding_range(min=int(map_data['annais'].min()), \n",
    "                               max=int(map_data['annais'].max()), \n",
    "                               step=1, \n",
    "                               name='Year: ')\n",
    "year_select = alt.param(bind=year_slider, value=2000)\n",
    "\n",
    "# Create the map with dynamic scale\n",
    "base_map = alt.Chart(map_data).add_params(\n",
    "    year_select\n",
    ").transform_filter(\n",
    "    alt.datum.annais == year_select    \n",
    ").mark_geoshape(\n",
    "    stroke='white',\n",
    "    strokeWidth=0.5\n",
    ").encode(\n",
    "    color=alt.Color('nombre:Q', \n",
    "                   scale=alt.Scale(scheme='blues'),\n",
    "                   title=f'Number of babies named {selected_name}'),\n",
    "    tooltip=['nom:N', 'code:N', 'annais:O', 'nombre:Q']\n",
    ").properties(\n",
    "    width=800,\n",
    "    height=600,\n",
    "    title=f'Popularity of the name \"{selected_name}\" across French departments'\n",
    ").resolve_scale(\n",
    "    color='independent'\n",
    ")\n",
    "\n",
    "base_map"
=======
    "# Plot\n",
    "alt.Chart(merged).mark_geoshape(stroke='white').encode(\n",
    "    tooltip=['nom:N', 'max_name:N', 'max_nombre:Q', 'min_name:N', 'min_nombre:Q'],\n",
    "    color='max_nombre:Q'\n",
    ").properties(width=800, height=600)"
>>>>>>> 54deafe4816ca1138f433c532324ec8720ce0291
   ]
  }
 ],
 "metadata": {
  "kernelspec": {
   "display_name": "env",
   "language": "python",
   "name": "python3"
  },
  "language_info": {
   "codemirror_mode": {
    "name": "ipython",
    "version": 3
   },
   "file_extension": ".py",
   "mimetype": "text/x-python",
   "name": "python",
   "nbconvert_exporter": "python",
   "pygments_lexer": "ipython3",
   "version": "3.13.3"
  }
 },
 "nbformat": 4,
 "nbformat_minor": 5
}
